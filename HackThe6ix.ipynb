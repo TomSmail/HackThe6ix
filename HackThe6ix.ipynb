{
  "nbformat": 4,
  "nbformat_minor": 0,
  "metadata": {
    "colab": {
      "name": "HackThe6ix.ipynb",
      "provenance": [],
      "collapsed_sections": []
    },
    "kernelspec": {
      "name": "python3",
      "display_name": "Python 3"
    },
    "language_info": {
      "name": "python"
    },
    "accelerator": "GPU",
    "gpuClass": "standard"
  },
  "cells": [
    {
      "cell_type": "markdown",
      "source": [
        "#Import Dependencies"
      ],
      "metadata": {
        "id": "9tTl46WqXR0t"
      }
    },
    {
      "cell_type": "code",
      "execution_count": null,
      "metadata": {
        "id": "XKBdePubxd1L"
      },
      "outputs": [],
      "source": [
        "import tensorflow as tf\n",
        "import tensorflow.keras.layers as tfl\n",
        "from tensorflow.keras.preprocessing import image\n",
        "from tensorflow.keras.preprocessing.image import ImageDataGenerator\n",
        "import tensorflow.keras.optimizers\n",
        "import numpy as np\n",
        "import cv2\n",
        "import os\n",
        "import matplotlib.pyplot as plt\n"
      ]
    },
    {
      "cell_type": "code",
      "source": [
        "print(tf.__version__)"
      ],
      "metadata": {
        "colab": {
          "base_uri": "https://localhost:8080/"
        },
        "id": "E0amMC7KV1O0",
        "outputId": "44b87321-a0c0-4f00-9866-40893bc4433c"
      },
      "execution_count": null,
      "outputs": [
        {
          "output_type": "stream",
          "name": "stdout",
          "text": [
            "2.8.2\n"
          ]
        }
      ]
    },
    {
      "cell_type": "markdown",
      "source": [
        "# Mount Google Drive"
      ],
      "metadata": {
        "id": "sfubo1V2Z055"
      }
    },
    {
      "cell_type": "code",
      "source": [
        "from google.colab import drive\n",
        "drive.mount('/content/gdrive')"
      ],
      "metadata": {
        "colab": {
          "base_uri": "https://localhost:8080/"
        },
        "id": "Vc6dDf-VZuuZ",
        "outputId": "3d097115-4653-4f08-93c8-533bbdcd920a"
      },
      "execution_count": null,
      "outputs": [
        {
          "output_type": "stream",
          "name": "stdout",
          "text": [
            "Mounted at /content/gdrive\n"
          ]
        }
      ]
    },
    {
      "cell_type": "markdown",
      "source": [
        "# Check what GPU is attatched to this session\n",
        "To activate GPU:\n",
        "-> Runtime -> Change Runtime Type -> Hardware Accelerator = GPU"
      ],
      "metadata": {
        "id": "MGeyLczGWJIr"
      }
    },
    {
      "cell_type": "code",
      "source": [
        "!nvidia-smi"
      ],
      "metadata": {
        "colab": {
          "base_uri": "https://localhost:8080/"
        },
        "id": "mTkmAG7-WGFA",
        "outputId": "c27108f2-ba72-4001-d126-704372562efe"
      },
      "execution_count": null,
      "outputs": [
        {
          "output_type": "stream",
          "name": "stdout",
          "text": [
            "Sat Aug 20 13:05:33 2022       \n",
            "+-----------------------------------------------------------------------------+\n",
            "| NVIDIA-SMI 460.32.03    Driver Version: 460.32.03    CUDA Version: 11.2     |\n",
            "|-------------------------------+----------------------+----------------------+\n",
            "| GPU  Name        Persistence-M| Bus-Id        Disp.A | Volatile Uncorr. ECC |\n",
            "| Fan  Temp  Perf  Pwr:Usage/Cap|         Memory-Usage | GPU-Util  Compute M. |\n",
            "|                               |                      |               MIG M. |\n",
            "|===============================+======================+======================|\n",
            "|   0  Tesla T4            Off  | 00000000:00:04.0 Off |                    0 |\n",
            "| N/A   45C    P8    10W /  70W |      0MiB / 15109MiB |      0%      Default |\n",
            "|                               |                      |                  N/A |\n",
            "+-------------------------------+----------------------+----------------------+\n",
            "                                                                               \n",
            "+-----------------------------------------------------------------------------+\n",
            "| Processes:                                                                  |\n",
            "|  GPU   GI   CI        PID   Type   Process name                  GPU Memory |\n",
            "|        ID   ID                                                   Usage      |\n",
            "|=============================================================================|\n",
            "|  No running processes found                                                 |\n",
            "+-----------------------------------------------------------------------------+\n"
          ]
        }
      ]
    },
    {
      "cell_type": "markdown",
      "source": [
        "#Importing and Checking Data"
      ],
      "metadata": {
        "id": "sNMN3TVFW-4j"
      }
    },
    {
      "cell_type": "code",
      "source": [
        "DEAD_FILE_PATH = '/content/gdrive/MyDrive/train/dead/'\n",
        "ALIVE_FILE_PATH = '/content/gdrive/MyDrive/train/alive/'\n",
        "\n",
        "TRAIN_FILE_PATH = '/content/gdrive/MyDrive/train/'\n",
        "TEST_FILE_PATH = '/content/gdrive/MyDrive/test/'\n",
        "VALIDATION_FILE_PATH = '/content/gdrive/MyDrive/validation/'"
      ],
      "metadata": {
        "id": "BVgP643DWzZH"
      },
      "execution_count": 80,
      "outputs": []
    },
    {
      "cell_type": "code",
      "source": [
        "img = image.load_img( DEAD_FILE_PATH +'Screenshot 2022-08-20 at 08.57.39.png')\n",
        "plt.imshow(img)"
      ],
      "metadata": {
        "colab": {
          "base_uri": "https://localhost:8080/",
          "height": 336
        },
        "id": "jAM8_RuahlSe",
        "outputId": "f919e61e-debc-446e-aa66-8b763750ed1c"
      },
      "execution_count": 81,
      "outputs": [
        {
          "output_type": "error",
          "ename": "FileNotFoundError",
          "evalue": "ignored",
          "traceback": [
            "\u001b[0;31m---------------------------------------------------------------------------\u001b[0m",
            "\u001b[0;31mFileNotFoundError\u001b[0m                         Traceback (most recent call last)",
            "\u001b[0;32m<ipython-input-81-f3fb10f81188>\u001b[0m in \u001b[0;36m<module>\u001b[0;34m\u001b[0m\n\u001b[0;32m----> 1\u001b[0;31m \u001b[0mimg\u001b[0m \u001b[0;34m=\u001b[0m \u001b[0mimage\u001b[0m\u001b[0;34m.\u001b[0m\u001b[0mload_img\u001b[0m\u001b[0;34m(\u001b[0m \u001b[0mDEAD_FILE_PATH\u001b[0m \u001b[0;34m+\u001b[0m\u001b[0;34m'Screenshot 2022-08-20 at 08.57.39.png'\u001b[0m\u001b[0;34m)\u001b[0m\u001b[0;34m\u001b[0m\u001b[0;34m\u001b[0m\u001b[0m\n\u001b[0m\u001b[1;32m      2\u001b[0m \u001b[0mplt\u001b[0m\u001b[0;34m.\u001b[0m\u001b[0mimshow\u001b[0m\u001b[0;34m(\u001b[0m\u001b[0mimg\u001b[0m\u001b[0;34m)\u001b[0m\u001b[0;34m\u001b[0m\u001b[0;34m\u001b[0m\u001b[0m\n",
            "\u001b[0;32m/usr/local/lib/python3.7/dist-packages/keras/preprocessing/image.py\u001b[0m in \u001b[0;36mload_img\u001b[0;34m(path, grayscale, color_mode, target_size, interpolation)\u001b[0m\n\u001b[1;32m    312\u001b[0m   \"\"\"\n\u001b[1;32m    313\u001b[0m   return image.load_img(path, grayscale=grayscale, color_mode=color_mode,\n\u001b[0;32m--> 314\u001b[0;31m                         target_size=target_size, interpolation=interpolation)\n\u001b[0m\u001b[1;32m    315\u001b[0m \u001b[0;34m\u001b[0m\u001b[0m\n\u001b[1;32m    316\u001b[0m \u001b[0;34m\u001b[0m\u001b[0m\n",
            "\u001b[0;32m/usr/local/lib/python3.7/dist-packages/keras_preprocessing/image/utils.py\u001b[0m in \u001b[0;36mload_img\u001b[0;34m(path, grayscale, color_mode, target_size, interpolation)\u001b[0m\n\u001b[1;32m    111\u001b[0m         raise ImportError('Could not import PIL.Image. '\n\u001b[1;32m    112\u001b[0m                           'The use of `load_img` requires PIL.')\n\u001b[0;32m--> 113\u001b[0;31m     \u001b[0;32mwith\u001b[0m \u001b[0mopen\u001b[0m\u001b[0;34m(\u001b[0m\u001b[0mpath\u001b[0m\u001b[0;34m,\u001b[0m \u001b[0;34m'rb'\u001b[0m\u001b[0;34m)\u001b[0m \u001b[0;32mas\u001b[0m \u001b[0mf\u001b[0m\u001b[0;34m:\u001b[0m\u001b[0;34m\u001b[0m\u001b[0;34m\u001b[0m\u001b[0m\n\u001b[0m\u001b[1;32m    114\u001b[0m         \u001b[0mimg\u001b[0m \u001b[0;34m=\u001b[0m \u001b[0mpil_image\u001b[0m\u001b[0;34m.\u001b[0m\u001b[0mopen\u001b[0m\u001b[0;34m(\u001b[0m\u001b[0mio\u001b[0m\u001b[0;34m.\u001b[0m\u001b[0mBytesIO\u001b[0m\u001b[0;34m(\u001b[0m\u001b[0mf\u001b[0m\u001b[0;34m.\u001b[0m\u001b[0mread\u001b[0m\u001b[0;34m(\u001b[0m\u001b[0;34m)\u001b[0m\u001b[0;34m)\u001b[0m\u001b[0;34m)\u001b[0m\u001b[0;34m\u001b[0m\u001b[0;34m\u001b[0m\u001b[0m\n\u001b[1;32m    115\u001b[0m         \u001b[0;32mif\u001b[0m \u001b[0mcolor_mode\u001b[0m \u001b[0;34m==\u001b[0m \u001b[0;34m'grayscale'\u001b[0m\u001b[0;34m:\u001b[0m\u001b[0;34m\u001b[0m\u001b[0;34m\u001b[0m\u001b[0m\n",
            "\u001b[0;31mFileNotFoundError\u001b[0m: [Errno 2] No such file or directory: '/content/gdrive/MyDrive/train/dead/Screenshot 2022-08-20 at 08.57.39.png'"
          ]
        }
      ]
    },
    {
      "cell_type": "code",
      "source": [
        "for filename in os.listdir(DEAD_FILE_PATH):\n",
        "  full_path = os.path.join(DEAD_FILE_PATH, filename)\n",
        "  if 'DS_Store' in filename or '.ipynb' in filename:\n",
        "    print('DS_Store / .ipnyb file is not supposed to be here, skipping')\n",
        "  else:\n",
        "    print(filename)\n",
        "    print(full_path)\n",
        "    print(cv2.imread(full_path).shape)"
      ],
      "metadata": {
        "colab": {
          "base_uri": "https://localhost:8080/"
        },
        "id": "VFkWtmvugYDG",
        "outputId": "54d79f50-851b-4888-f44b-5f5ea00d3624"
      },
      "execution_count": 84,
      "outputs": [
        {
          "output_type": "stream",
          "name": "stdout",
          "text": [
            "Screenshot 2022-08-20 at 09.00.15.png\n",
            "/content/gdrive/MyDrive/train/dead/Screenshot 2022-08-20 at 09.00.15.png\n",
            "(900, 1742, 3)\n",
            "Screenshot 2022-08-20 at 09.01.21.png\n",
            "/content/gdrive/MyDrive/train/dead/Screenshot 2022-08-20 at 09.01.21.png\n",
            "(1080, 1762, 3)\n",
            "Screenshot 2022-08-20 at 09.01.41.png\n",
            "/content/gdrive/MyDrive/train/dead/Screenshot 2022-08-20 at 09.01.41.png\n",
            "(1122, 1726, 3)\n",
            "Screenshot 2022-08-20 at 09.01.58.png\n",
            "/content/gdrive/MyDrive/train/dead/Screenshot 2022-08-20 at 09.01.58.png\n",
            "(520, 964, 3)\n",
            "Screenshot 2022-08-20 at 09.03.27.png\n",
            "/content/gdrive/MyDrive/train/dead/Screenshot 2022-08-20 at 09.03.27.png\n",
            "(1040, 1702, 3)\n",
            "Screenshot 2022-08-20 at 09.26.15.png\n",
            "/content/gdrive/MyDrive/train/dead/Screenshot 2022-08-20 at 09.26.15.png\n",
            "(1436, 2208, 3)\n",
            "Screenshot 2022-08-20 at 09.30.41.png\n",
            "/content/gdrive/MyDrive/train/dead/Screenshot 2022-08-20 at 09.30.41.png\n",
            "(1086, 1962, 3)\n",
            "Screenshot 2022-08-20 at 09.31.50.png\n",
            "/content/gdrive/MyDrive/train/dead/Screenshot 2022-08-20 at 09.31.50.png\n",
            "(1288, 1926, 3)\n",
            "DS_Store / .ipnyb file is not supposed to be here, skipping\n",
            "DS_Store / .ipnyb file is not supposed to be here, skipping\n"
          ]
        }
      ]
    },
    {
      "cell_type": "markdown",
      "source": [
        "#Normalise data and format\n"
      ],
      "metadata": {
        "id": "R8C9-CUep4Yl"
      }
    },
    {
      "cell_type": "code",
      "source": [
        "train = ImageDataGenerator(rescale=1/255)\n",
        "validation = ImageDataGenerator(rescale=1/255)"
      ],
      "metadata": {
        "id": "hPSHiy1FluKu"
      },
      "execution_count": 85,
      "outputs": []
    },
    {
      "cell_type": "code",
      "source": [
        "train_dataset = train.flow_from_directory(TRAIN_FILE_PATH,\n",
        "                                          target_size = (500,500),\n",
        "                                          class_mode = 'binary',\n",
        "                                          batch_size = 3)"
      ],
      "metadata": {
        "colab": {
          "base_uri": "https://localhost:8080/"
        },
        "id": "TUmzc2Lol7TI",
        "outputId": "71a3f4f4-a51b-4907-dda6-d3e0ab4c0e5b"
      },
      "execution_count": 86,
      "outputs": [
        {
          "output_type": "stream",
          "name": "stdout",
          "text": [
            "Found 68 images belonging to 2 classes.\n"
          ]
        }
      ]
    },
    {
      "cell_type": "code",
      "source": [
        "validation_dataset = validation.flow_from_directory(VALIDATION_FILE_PATH,\n",
        "                                          target_size = (500,500),\n",
        "                                          class_mode = 'binary',\n",
        "                                          batch_size = 3)"
      ],
      "metadata": {
        "colab": {
          "base_uri": "https://localhost:8080/"
        },
        "id": "VaOxEAh4nKGN",
        "outputId": "000e8ef2-3c8e-4dda-9634-d7ed5d86c8a9"
      },
      "execution_count": 90,
      "outputs": [
        {
          "output_type": "stream",
          "name": "stdout",
          "text": [
            "Found 9 images belonging to 2 classes.\n"
          ]
        }
      ]
    },
    {
      "cell_type": "markdown",
      "source": [
        "Check that the alive and dead are mapped to the same value for test and train data"
      ],
      "metadata": {
        "id": "BlGWaantpc46"
      }
    },
    {
      "cell_type": "code",
      "source": [
        "print(train_dataset.class_indices)\n",
        "print(validation_dataset.class_indices)"
      ],
      "metadata": {
        "colab": {
          "base_uri": "https://localhost:8080/"
        },
        "id": "e5mq5mr-o3Hz",
        "outputId": "d1994234-ae63-4d40-fcf6-935de980ee74"
      },
      "execution_count": 91,
      "outputs": [
        {
          "output_type": "stream",
          "name": "stdout",
          "text": [
            "{'alive': 0, 'dead': 1}\n",
            "{'alive': 0, 'dead': 1}\n"
          ]
        }
      ]
    },
    {
      "cell_type": "markdown",
      "source": [
        "#Generate Model"
      ],
      "metadata": {
        "id": "_Fp2FnY9qGAX"
      }
    },
    {
      "cell_type": "code",
      "source": [
        "model = tf.keras.models.Sequential()\n",
        "model.add(tf.keras.layers.Conv2D(filters = 32, kernel_size = (5,5), strides = (2,2), padding = 'valid', input_shape = (500,500, 3))) \n",
        "model.add(tf.keras.layers.MaxPooling2D(pool_size=(2,2)))\n",
        "model.add(tf.keras.layers.Conv2D(filters = 64, kernel_size = (5,5), strides = (1,1), padding = 'valid'))\n",
        "model.add(tf.keras.layers.MaxPooling2D(pool_size=(2,2)))\n",
        "model.add(tf.keras.layers.Conv2D(filters = 128, kernel_size = (3,3), strides = (1,1), padding = 'valid'))\n",
        "model.add(tf.keras.layers.MaxPooling2D(pool_size=(2,2)))\n",
        "model.add(tf.keras.layers.Flatten())\n",
        "model.add(tf.keras.layers.Dense(1, activation = 'sigmoid'))\n",
        "model.summary()"
      ],
      "metadata": {
        "colab": {
          "base_uri": "https://localhost:8080/"
        },
        "id": "dBco25pbqLyq",
        "outputId": "9bdeb25f-0b91-45ab-a587-8b0536b36115"
      },
      "execution_count": 92,
      "outputs": [
        {
          "output_type": "stream",
          "name": "stdout",
          "text": [
            "Model: \"sequential_4\"\n",
            "_________________________________________________________________\n",
            " Layer (type)                Output Shape              Param #   \n",
            "=================================================================\n",
            " conv2d_10 (Conv2D)          (None, 248, 248, 32)      2432      \n",
            "                                                                 \n",
            " max_pooling2d_9 (MaxPooling  (None, 124, 124, 32)     0         \n",
            " 2D)                                                             \n",
            "                                                                 \n",
            " conv2d_11 (Conv2D)          (None, 120, 120, 64)      51264     \n",
            "                                                                 \n",
            " max_pooling2d_10 (MaxPoolin  (None, 60, 60, 64)       0         \n",
            " g2D)                                                            \n",
            "                                                                 \n",
            " conv2d_12 (Conv2D)          (None, 58, 58, 128)       73856     \n",
            "                                                                 \n",
            " max_pooling2d_11 (MaxPoolin  (None, 29, 29, 128)      0         \n",
            " g2D)                                                            \n",
            "                                                                 \n",
            " flatten_3 (Flatten)         (None, 107648)            0         \n",
            "                                                                 \n",
            " dense_2 (Dense)             (None, 1)                 107649    \n",
            "                                                                 \n",
            "=================================================================\n",
            "Total params: 235,201\n",
            "Trainable params: 235,201\n",
            "Non-trainable params: 0\n",
            "_________________________________________________________________\n"
          ]
        }
      ]
    },
    {
      "cell_type": "code",
      "source": [
        "model.compile(tf.keras.optimizers.Adam(learning_rate=1e-3), loss=tf.keras.losses.BinaryCrossentropy(), metrics=[tf.keras.metrics.BinaryAccuracy()])"
      ],
      "metadata": {
        "id": "jXQIuxlErwBj"
      },
      "execution_count": 93,
      "outputs": []
    },
    {
      "cell_type": "code",
      "source": [
        "model_fit = model.fit(train_dataset, epochs = 25, validation_data = validation_dataset, steps_per_epoch=3)"
      ],
      "metadata": {
        "colab": {
          "base_uri": "https://localhost:8080/"
        },
        "id": "73MoNsSksbpC",
        "outputId": "01a431b0-f586-4a9a-b857-a8a9e43ce447"
      },
      "execution_count": 94,
      "outputs": [
        {
          "output_type": "stream",
          "name": "stdout",
          "text": [
            "Epoch 1/25\n",
            "3/3 [==============================] - 2s 644ms/step - loss: 0.2295 - binary_accuracy: 0.8889 - val_loss: 10.1019 - val_binary_accuracy: 0.6667\n",
            "Epoch 2/25\n",
            "3/3 [==============================] - 2s 659ms/step - loss: 3.6512 - binary_accuracy: 0.8889 - val_loss: 6.8134 - val_binary_accuracy: 0.6667\n",
            "Epoch 3/25\n",
            "3/3 [==============================] - 2s 917ms/step - loss: 5.3948 - binary_accuracy: 0.4444 - val_loss: 0.8278 - val_binary_accuracy: 0.3333\n",
            "Epoch 4/25\n",
            "3/3 [==============================] - 1s 605ms/step - loss: 1.7261 - binary_accuracy: 0.4444 - val_loss: 2.5688 - val_binary_accuracy: 0.6667\n",
            "Epoch 5/25\n",
            "3/3 [==============================] - 2s 624ms/step - loss: 0.0470 - binary_accuracy: 1.0000 - val_loss: 0.4661 - val_binary_accuracy: 0.8889\n",
            "Epoch 6/25\n",
            "3/3 [==============================] - 2s 642ms/step - loss: 0.3555 - binary_accuracy: 0.7778 - val_loss: 1.6658 - val_binary_accuracy: 0.6667\n",
            "Epoch 7/25\n",
            "3/3 [==============================] - 1s 578ms/step - loss: 0.0068 - binary_accuracy: 1.0000 - val_loss: 2.9279 - val_binary_accuracy: 0.6667\n",
            "Epoch 8/25\n",
            "3/3 [==============================] - 1s 574ms/step - loss: 4.6317e-04 - binary_accuracy: 1.0000 - val_loss: 4.1873 - val_binary_accuracy: 0.6667\n",
            "Epoch 9/25\n",
            "3/3 [==============================] - 1s 601ms/step - loss: 1.1864 - binary_accuracy: 0.7778 - val_loss: 0.4596 - val_binary_accuracy: 0.8889\n",
            "Epoch 10/25\n",
            "3/3 [==============================] - 2s 889ms/step - loss: 1.0745 - binary_accuracy: 0.6667 - val_loss: 2.1034 - val_binary_accuracy: 0.6667\n",
            "Epoch 11/25\n",
            "3/3 [==============================] - 2s 646ms/step - loss: 0.2652 - binary_accuracy: 0.8889 - val_loss: 3.5431 - val_binary_accuracy: 0.6667\n",
            "Epoch 12/25\n",
            "3/3 [==============================] - 1s 566ms/step - loss: 0.5749 - binary_accuracy: 0.8889 - val_loss: 1.4767 - val_binary_accuracy: 0.6667\n",
            "Epoch 13/25\n",
            "3/3 [==============================] - 1s 554ms/step - loss: 0.0546 - binary_accuracy: 1.0000 - val_loss: 0.4630 - val_binary_accuracy: 0.8889\n",
            "Epoch 14/25\n",
            "3/3 [==============================] - 1s 558ms/step - loss: 0.0377 - binary_accuracy: 1.0000 - val_loss: 0.5828 - val_binary_accuracy: 0.8889\n",
            "Epoch 15/25\n",
            "3/3 [==============================] - 2s 616ms/step - loss: 0.0213 - binary_accuracy: 1.0000 - val_loss: 1.0647 - val_binary_accuracy: 0.6667\n",
            "Epoch 16/25\n",
            "3/3 [==============================] - 2s 628ms/step - loss: 0.0077 - binary_accuracy: 1.0000 - val_loss: 1.9793 - val_binary_accuracy: 0.6667\n",
            "Epoch 17/25\n",
            "3/3 [==============================] - 2s 624ms/step - loss: 0.0011 - binary_accuracy: 1.0000 - val_loss: 2.8678 - val_binary_accuracy: 0.6667\n",
            "Epoch 18/25\n",
            "3/3 [==============================] - 2s 617ms/step - loss: 0.5205 - binary_accuracy: 0.8889 - val_loss: 1.9296 - val_binary_accuracy: 0.6667\n",
            "Epoch 19/25\n",
            "3/3 [==============================] - 2s 625ms/step - loss: 0.2818 - binary_accuracy: 0.8889 - val_loss: 0.5314 - val_binary_accuracy: 0.8889\n",
            "Epoch 20/25\n",
            "3/3 [==============================] - 2s 631ms/step - loss: 0.0033 - binary_accuracy: 1.0000 - val_loss: 2.4960 - val_binary_accuracy: 0.6667\n",
            "Epoch 21/25\n",
            "3/3 [==============================] - 2s 606ms/step - loss: 8.1521e-04 - binary_accuracy: 1.0000 - val_loss: 3.6933 - val_binary_accuracy: 0.6667\n",
            "Epoch 22/25\n",
            "3/3 [==============================] - 1s 517ms/step - loss: 2.5763e-05 - binary_accuracy: 1.0000 - val_loss: 4.2920 - val_binary_accuracy: 0.6667\n",
            "Epoch 23/25\n",
            "3/3 [==============================] - 1s 604ms/step - loss: 3.6931e-05 - binary_accuracy: 1.0000 - val_loss: 4.5885 - val_binary_accuracy: 0.6667\n",
            "Epoch 24/25\n",
            "3/3 [==============================] - 1s 543ms/step - loss: 2.0063 - binary_accuracy: 0.8750 - val_loss: 1.3693 - val_binary_accuracy: 0.6667\n",
            "Epoch 25/25\n",
            "3/3 [==============================] - 1s 609ms/step - loss: 0.5239 - binary_accuracy: 0.6667 - val_loss: 0.9611 - val_binary_accuracy: 0.6667\n"
          ]
        }
      ]
    },
    {
      "cell_type": "code",
      "source": [
        "img = image.load_img(TEST_FILE_PATH + 'Screenshot 2022-08-20 at 15.54.09.png')\n",
        "image_array = image.img_to_array(img)\n",
        "expanded_image_array = np.expand_dims(image_array, axis = 0)\n",
        "images = np.vstack([expanded_image_array])\n",
        "resized_image = tf.image.resize(\n",
        "    images,\n",
        "    size = (500,500))\n",
        "prediction = model.predict(resized_image)\n",
        "print(prediction)\n",
        "if prediction == [[1.]]:\n",
        "  print('Dead forrest')\n",
        "else:\n",
        "  print('Alive forrest')"
      ],
      "metadata": {
        "colab": {
          "base_uri": "https://localhost:8080/"
        },
        "id": "7WJkJ7fHuyaD",
        "outputId": "8d53cc2a-f559-4c5d-e8b4-f70f752ed8b6"
      },
      "execution_count": 97,
      "outputs": [
        {
          "output_type": "stream",
          "name": "stdout",
          "text": [
            "[[0.]]\n",
            "Alive forrest\n"
          ]
        }
      ]
    },
    {
      "cell_type": "code",
      "source": [
        "img = image.load_img(TEST_FILE_PATH + 'Screenshot 2022-08-20 at 15.54.09.png')"
      ],
      "metadata": {
        "id": "h5tfm9oF0CbE"
      },
      "execution_count": null,
      "outputs": []
    }
  ]
}